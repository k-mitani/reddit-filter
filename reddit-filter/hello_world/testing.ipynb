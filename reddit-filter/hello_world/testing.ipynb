{
 "cells": [
  {
   "cell_type": "code",
   "execution_count": 2,
   "metadata": {},
   "outputs": [],
   "source": [
    "%load_ext autoreload\n",
    "%autoreload\n",
    "\n",
    "import app"
   ]
  },
  {
   "cell_type": "code",
   "execution_count": 3,
   "metadata": {},
   "outputs": [],
   "source": [
    "URL_LIST = [\n",
    "    \"https://www.reddit.com/r/Unity3D.rss\",\n",
    "    \"https://www.reddit.com/r/unity.rss\",\n",
    "    \"https://www.reddit.com/r/playmygame.rss\",\n",
    "    \"https://www.reddit.com/r/indiegames.rss\",\n",
    "    \"https://www.reddit.com/r/gamedev.rss\",\n",
    "]\n",
    "entries = []\n",
    "for url in URL_LIST:\n",
    "    res = app.fetch_entries(url)\n",
    "    entries.extend(res)"
   ]
  },
  {
   "cell_type": "code",
   "execution_count": 17,
   "metadata": {},
   "outputs": [
    {
     "name": "stdout",
     "output_type": "stream",
     "text": [
      "NG https://www.reddit.com/r/Unity3D/comments/193o1pe/unity_is_cutting_ironsource/ An error occurred (ConditionalCheckFailedException) when calling the UpdateItem operation: The conditional request failed\n",
      "NG https://www.reddit.com/r/Unity3D/comments/1am0315/why_not_its_not_joke_its_error_in_custom/ An error occurred (ConditionalCheckFailedException) when calling the UpdateItem operation: The conditional request failed\n",
      "NG https://www.reddit.com/r/Unity3D/comments/1am1nnt/i_added_a_minigame_for_the_forge_in_my_game_what/ An error occurred (ConditionalCheckFailedException) when calling the UpdateItem operation: The conditional request failed\n",
      "NG https://www.reddit.com/r/Unity3D/comments/1am4ivr/what_do_you_think_of_my_car_mechanics/ An error occurred (ConditionalCheckFailedException) when calling the UpdateItem operation: The conditional request failed\n",
      "NG https://www.reddit.com/r/Unity3D/comments/1alsm85/i_compiled_a_free_app_via_unity_for_texturing/ An error occurred (ConditionalCheckFailedException) when calling the UpdateItem operation: The conditional request failed\n",
      "NG https://www.reddit.com/r/Unity3D/comments/1am3304/added_some_new_characters_with_emotions_to_my_god/ An error occurred (ConditionalCheckFailedException) when calling the UpdateItem operation: The conditional request failed\n",
      "NG https://www.reddit.com/r/Unity3D/comments/1ami6jb/added_gizmo_for_easy_generation_of_rock_clusters/ An error occurred (ConditionalCheckFailedException) when calling the UpdateItem operation: The conditional request failed\n",
      "NG https://www.reddit.com/r/Unity3D/comments/1am23w4/we_are_two_friends_newcomers_in_gamedev_creating/ An error occurred (ConditionalCheckFailedException) when calling the UpdateItem operation: The conditional request failed\n",
      "NG https://www.reddit.com/r/Unity3D/comments/1am5y4k/finished_my_water_attack_and_added_a_breakdown/ An error occurred (ConditionalCheckFailedException) when calling the UpdateItem operation: The conditional request failed\n",
      "NG https://www.reddit.com/r/Unity3D/comments/1amg8c8/help_with_raycasting_to_where_the_bullet_will_be/ An error occurred (ConditionalCheckFailedException) when calling the UpdateItem operation: The conditional request failed\n",
      "NG https://www.reddit.com/r/Unity3D/comments/1amjkvm/ive_added_a_bunch_of_stuff_to_my_random_melody/ An error occurred (ConditionalCheckFailedException) when calling the UpdateItem operation: The conditional request failed\n",
      "NG https://www.reddit.com/r/Unity3D/comments/1amk5a7/what_do_you_think_of_our_goblin_minifps_roguelite/ An error occurred (ConditionalCheckFailedException) when calling the UpdateItem operation: The conditional request failed\n",
      "NG https://www.reddit.com/r/Unity3D/comments/1alzeqh/a_tiny_tip_for_ingame_tv_screens/ An error occurred (ConditionalCheckFailedException) when calling the UpdateItem operation: The conditional request failed\n",
      "NG https://www.reddit.com/r/Unity3D/comments/1ambsva/really_proud_of_how_this_mini_game_turned_out/ An error occurred (ConditionalCheckFailedException) when calling the UpdateItem operation: The conditional request failed\n",
      "NG https://www.reddit.com/r/Unity3D/comments/1alx4uw/the_snow_globe_chest_can_now_be_opened_in_the/ An error occurred (ConditionalCheckFailedException) when calling the UpdateItem operation: The conditional request failed\n",
      "NG https://www.reddit.com/r/Unity3D/comments/1amke9s/what_arena_do_you_like_more_i_am_making_a_food/ An error occurred (ConditionalCheckFailedException) when calling the UpdateItem operation: The conditional request failed\n",
      "NG https://www.reddit.com/r/Unity3D/comments/1amkda3/together_in_every_universe_a_game_made_for/ An error occurred (ConditionalCheckFailedException) when calling the UpdateItem operation: The conditional request failed\n",
      "NG https://www.reddit.com/r/Unity3D/comments/1amkbup/trailer_finding_anastasia/ An error occurred (ConditionalCheckFailedException) when calling the UpdateItem operation: The conditional request failed\n",
      "NG https://www.reddit.com/r/Unity3D/comments/1amk90d/why_is_360_hdri_environment_pink_in_urp_is_there/ An error occurred (ConditionalCheckFailedException) when calling the UpdateItem operation: The conditional request failed\n",
      "NG https://www.reddit.com/r/Unity3D/comments/1amjxj5/reverse_pc_unity_game_to_ios/ An error occurred (ConditionalCheckFailedException) when calling the UpdateItem operation: The conditional request failed\n",
      "NG https://www.reddit.com/r/Unity3D/comments/1alx6zj/just_published_an_extensive_set_of_highways/ An error occurred (ConditionalCheckFailedException) when calling the UpdateItem operation: The conditional request failed\n",
      "NG https://www.reddit.com/r/Unity3D/comments/1amg1rl/any_way_to_have_a_box_collider_with_the_character/ An error occurred (ConditionalCheckFailedException) when calling the UpdateItem operation: The conditional request failed\n",
      "NG https://www.reddit.com/r/Unity3D/comments/1amfqmr/why_do_these_trim_pieces_have_a_gradient_shadow/ An error occurred (ConditionalCheckFailedException) when calling the UpdateItem operation: The conditional request failed\n",
      "NG https://www.reddit.com/r/Unity3D/comments/1alw2w4/getbloody/ An error occurred (ConditionalCheckFailedException) when calling the UpdateItem operation: The conditional request failed\n",
      "NG https://www.reddit.com/r/Unity3D/comments/1amio66/animation_is_rubberbanding_noob_plz_help/ An error occurred (ConditionalCheckFailedException) when calling the UpdateItem operation: The conditional request failed\n",
      "NG https://www.reddit.com/r/Unity3D/comments/1am5ylj/i_created_the_first_prototype_of_reactive_maps_in/ An error occurred (ConditionalCheckFailedException) when calling the UpdateItem operation: The conditional request failed\n"
     ]
    },
    {
     "data": {
      "text/plain": [
       "0"
      ]
     },
     "execution_count": 17,
     "metadata": {},
     "output_type": "execute_result"
    }
   ],
   "source": [
    "consumed_capacity = 0\n",
    "for entry in entries:\n",
    "    try:\n",
    "        result = app.table.update_item(\n",
    "            Key={\"entry_url\": entry.link},\n",
    "            UpdateExpression=\"SET author = :author, title = :title, updated = :updated, published = :published, content = :content\",\n",
    "            ExpressionAttributeValues={\n",
    "                ':author': entry.author,\n",
    "                ':title': entry.title,\n",
    "                ':updated': entry.updated,\n",
    "                ':published': entry.published,\n",
    "                ':content': entry.content,\n",
    "            },\n",
    "            ReturnConsumedCapacity='TOTAL',\n",
    "            ConditionExpression=\"attribute_not_exists(entry_url)\"\n",
    "        )\n",
    "        consumed_capacity += result['ConsumedCapacity']['CapacityUnits']\n",
    "        print(\"OK\", entry.link)\n",
    "    except Exception as e:\n",
    "        print(\"NG\", entry.link, e)\n",
    "print(\"DONE\", consumed_capacity)"
   ]
  },
  {
   "cell_type": "code",
   "execution_count": 9,
   "metadata": {},
   "outputs": [
    {
     "ename": "ConditionalCheckFailedException",
     "evalue": "An error occurred (ConditionalCheckFailedException) when calling the UpdateItem operation: The conditional request failed",
     "output_type": "error",
     "traceback": [
      "\u001b[0;31m---------------------------------------------------------------------------\u001b[0m",
      "\u001b[0;31mConditionalCheckFailedException\u001b[0m           Traceback (most recent call last)",
      "Cell \u001b[0;32mIn[9], line 1\u001b[0m\n\u001b[0;32m----> 1\u001b[0m \u001b[43mapp\u001b[49m\u001b[38;5;241;43m.\u001b[39;49m\u001b[43mtable\u001b[49m\u001b[38;5;241;43m.\u001b[39;49m\u001b[43mupdate_item\u001b[49m\u001b[43m(\u001b[49m\n\u001b[1;32m      2\u001b[0m \u001b[43m    \u001b[49m\u001b[43mKey\u001b[49m\u001b[38;5;241;43m=\u001b[39;49m\u001b[43m{\u001b[49m\u001b[38;5;124;43m\"\u001b[39;49m\u001b[38;5;124;43mentry_url\u001b[39;49m\u001b[38;5;124;43m\"\u001b[39;49m\u001b[43m:\u001b[49m\u001b[43m \u001b[49m\u001b[43mentry\u001b[49m\u001b[38;5;241;43m.\u001b[39;49m\u001b[43mlink\u001b[49m\u001b[43m}\u001b[49m\u001b[43m,\u001b[49m\n\u001b[1;32m      3\u001b[0m \u001b[43m    \u001b[49m\u001b[43mUpdateExpression\u001b[49m\u001b[38;5;241;43m=\u001b[39;49m\u001b[38;5;124;43m\"\u001b[39;49m\u001b[38;5;124;43mSET author = :author, title = :title, updated = :updated, published = :published, content = :content\u001b[39;49m\u001b[38;5;124;43m\"\u001b[39;49m\u001b[43m,\u001b[49m\n\u001b[1;32m      4\u001b[0m \u001b[43m    \u001b[49m\u001b[43mExpressionAttributeValues\u001b[49m\u001b[38;5;241;43m=\u001b[39;49m\u001b[43m{\u001b[49m\n\u001b[1;32m      5\u001b[0m \u001b[43m        \u001b[49m\u001b[38;5;124;43m'\u001b[39;49m\u001b[38;5;124;43m:author\u001b[39;49m\u001b[38;5;124;43m'\u001b[39;49m\u001b[43m:\u001b[49m\u001b[43m \u001b[49m\u001b[43mentry\u001b[49m\u001b[38;5;241;43m.\u001b[39;49m\u001b[43mauthor\u001b[49m\u001b[43m,\u001b[49m\n\u001b[1;32m      6\u001b[0m \u001b[43m        \u001b[49m\u001b[38;5;124;43m'\u001b[39;49m\u001b[38;5;124;43m:title\u001b[39;49m\u001b[38;5;124;43m'\u001b[39;49m\u001b[43m:\u001b[49m\u001b[43m \u001b[49m\u001b[43mentry\u001b[49m\u001b[38;5;241;43m.\u001b[39;49m\u001b[43mtitle\u001b[49m\u001b[43m,\u001b[49m\n\u001b[1;32m      7\u001b[0m \u001b[43m        \u001b[49m\u001b[38;5;124;43m'\u001b[39;49m\u001b[38;5;124;43m:updated\u001b[39;49m\u001b[38;5;124;43m'\u001b[39;49m\u001b[43m:\u001b[49m\u001b[43m \u001b[49m\u001b[43mentry\u001b[49m\u001b[38;5;241;43m.\u001b[39;49m\u001b[43mupdated\u001b[49m\u001b[43m,\u001b[49m\n\u001b[1;32m      8\u001b[0m \u001b[43m        \u001b[49m\u001b[38;5;124;43m'\u001b[39;49m\u001b[38;5;124;43m:published\u001b[39;49m\u001b[38;5;124;43m'\u001b[39;49m\u001b[43m:\u001b[49m\u001b[43m \u001b[49m\u001b[43mentry\u001b[49m\u001b[38;5;241;43m.\u001b[39;49m\u001b[43mpublished\u001b[49m\u001b[43m,\u001b[49m\n\u001b[1;32m      9\u001b[0m \u001b[43m        \u001b[49m\u001b[38;5;124;43m'\u001b[39;49m\u001b[38;5;124;43m:content\u001b[39;49m\u001b[38;5;124;43m'\u001b[39;49m\u001b[43m:\u001b[49m\u001b[43m \u001b[49m\u001b[43mentry\u001b[49m\u001b[38;5;241;43m.\u001b[39;49m\u001b[43mcontent\u001b[49m\u001b[43m,\u001b[49m\n\u001b[1;32m     10\u001b[0m \u001b[43m    \u001b[49m\u001b[43m}\u001b[49m\u001b[43m,\u001b[49m\n\u001b[1;32m     11\u001b[0m \u001b[43m    \u001b[49m\u001b[43mReturnConsumedCapacity\u001b[49m\u001b[38;5;241;43m=\u001b[39;49m\u001b[38;5;124;43m'\u001b[39;49m\u001b[38;5;124;43mTOTAL\u001b[39;49m\u001b[38;5;124;43m'\u001b[39;49m\u001b[43m,\u001b[49m\n\u001b[1;32m     12\u001b[0m \u001b[43m    \u001b[49m\u001b[43mConditionExpression\u001b[49m\u001b[38;5;241;43m=\u001b[39;49m\u001b[38;5;124;43m\"\u001b[39;49m\u001b[38;5;124;43mattribute_not_exists(entry_url)\u001b[39;49m\u001b[38;5;124;43m\"\u001b[39;49m\n\u001b[1;32m     13\u001b[0m \u001b[43m)\u001b[49m\n",
      "File \u001b[0;32m/usr/local/lib/python3.9/site-packages/boto3/resources/factory.py:580\u001b[0m, in \u001b[0;36mResourceFactory._create_action.<locals>.do_action\u001b[0;34m(self, *args, **kwargs)\u001b[0m\n\u001b[1;32m    579\u001b[0m \u001b[38;5;28;01mdef\u001b[39;00m \u001b[38;5;21mdo_action\u001b[39m(\u001b[38;5;28mself\u001b[39m, \u001b[38;5;241m*\u001b[39margs, \u001b[38;5;241m*\u001b[39m\u001b[38;5;241m*\u001b[39mkwargs):\n\u001b[0;32m--> 580\u001b[0m     response \u001b[38;5;241m=\u001b[39m \u001b[43maction\u001b[49m\u001b[43m(\u001b[49m\u001b[38;5;28;43mself\u001b[39;49m\u001b[43m,\u001b[49m\u001b[43m \u001b[49m\u001b[38;5;241;43m*\u001b[39;49m\u001b[43margs\u001b[49m\u001b[43m,\u001b[49m\u001b[43m \u001b[49m\u001b[38;5;241;43m*\u001b[39;49m\u001b[38;5;241;43m*\u001b[39;49m\u001b[43mkwargs\u001b[49m\u001b[43m)\u001b[49m\n\u001b[1;32m    582\u001b[0m     \u001b[38;5;28;01mif\u001b[39;00m \u001b[38;5;28mhasattr\u001b[39m(\u001b[38;5;28mself\u001b[39m, \u001b[38;5;124m'\u001b[39m\u001b[38;5;124mload\u001b[39m\u001b[38;5;124m'\u001b[39m):\n\u001b[1;32m    583\u001b[0m         \u001b[38;5;66;03m# Clear cached data. It will be reloaded the next\u001b[39;00m\n\u001b[1;32m    584\u001b[0m         \u001b[38;5;66;03m# time that an attribute is accessed.\u001b[39;00m\n\u001b[1;32m    585\u001b[0m         \u001b[38;5;66;03m# TODO: Make this configurable in the future?\u001b[39;00m\n\u001b[1;32m    586\u001b[0m         \u001b[38;5;28mself\u001b[39m\u001b[38;5;241m.\u001b[39mmeta\u001b[38;5;241m.\u001b[39mdata \u001b[38;5;241m=\u001b[39m \u001b[38;5;28;01mNone\u001b[39;00m\n",
      "File \u001b[0;32m/usr/local/lib/python3.9/site-packages/boto3/resources/action.py:88\u001b[0m, in \u001b[0;36mServiceAction.__call__\u001b[0;34m(self, parent, *args, **kwargs)\u001b[0m\n\u001b[1;32m     79\u001b[0m params\u001b[38;5;241m.\u001b[39mupdate(kwargs)\n\u001b[1;32m     81\u001b[0m logger\u001b[38;5;241m.\u001b[39mdebug(\n\u001b[1;32m     82\u001b[0m     \u001b[38;5;124m'\u001b[39m\u001b[38;5;124mCalling \u001b[39m\u001b[38;5;132;01m%s\u001b[39;00m\u001b[38;5;124m:\u001b[39m\u001b[38;5;132;01m%s\u001b[39;00m\u001b[38;5;124m with \u001b[39m\u001b[38;5;132;01m%r\u001b[39;00m\u001b[38;5;124m'\u001b[39m,\n\u001b[1;32m     83\u001b[0m     parent\u001b[38;5;241m.\u001b[39mmeta\u001b[38;5;241m.\u001b[39mservice_name,\n\u001b[1;32m     84\u001b[0m     operation_name,\n\u001b[1;32m     85\u001b[0m     params,\n\u001b[1;32m     86\u001b[0m )\n\u001b[0;32m---> 88\u001b[0m response \u001b[38;5;241m=\u001b[39m \u001b[38;5;28;43mgetattr\u001b[39;49m\u001b[43m(\u001b[49m\u001b[43mparent\u001b[49m\u001b[38;5;241;43m.\u001b[39;49m\u001b[43mmeta\u001b[49m\u001b[38;5;241;43m.\u001b[39;49m\u001b[43mclient\u001b[49m\u001b[43m,\u001b[49m\u001b[43m \u001b[49m\u001b[43moperation_name\u001b[49m\u001b[43m)\u001b[49m\u001b[43m(\u001b[49m\u001b[38;5;241;43m*\u001b[39;49m\u001b[43margs\u001b[49m\u001b[43m,\u001b[49m\u001b[43m \u001b[49m\u001b[38;5;241;43m*\u001b[39;49m\u001b[38;5;241;43m*\u001b[39;49m\u001b[43mparams\u001b[49m\u001b[43m)\u001b[49m\n\u001b[1;32m     90\u001b[0m logger\u001b[38;5;241m.\u001b[39mdebug(\u001b[38;5;124m'\u001b[39m\u001b[38;5;124mResponse: \u001b[39m\u001b[38;5;132;01m%r\u001b[39;00m\u001b[38;5;124m'\u001b[39m, response)\n\u001b[1;32m     92\u001b[0m \u001b[38;5;28;01mreturn\u001b[39;00m \u001b[38;5;28mself\u001b[39m\u001b[38;5;241m.\u001b[39m_response_handler(parent, params, response)\n",
      "File \u001b[0;32m/usr/local/lib/python3.9/site-packages/botocore/client.py:535\u001b[0m, in \u001b[0;36mClientCreator._create_api_method.<locals>._api_call\u001b[0;34m(self, *args, **kwargs)\u001b[0m\n\u001b[1;32m    531\u001b[0m     \u001b[38;5;28;01mraise\u001b[39;00m \u001b[38;5;167;01mTypeError\u001b[39;00m(\n\u001b[1;32m    532\u001b[0m         \u001b[38;5;124mf\u001b[39m\u001b[38;5;124m\"\u001b[39m\u001b[38;5;132;01m{\u001b[39;00mpy_operation_name\u001b[38;5;132;01m}\u001b[39;00m\u001b[38;5;124m() only accepts keyword arguments.\u001b[39m\u001b[38;5;124m\"\u001b[39m\n\u001b[1;32m    533\u001b[0m     )\n\u001b[1;32m    534\u001b[0m \u001b[38;5;66;03m# The \"self\" in this scope is referring to the BaseClient.\u001b[39;00m\n\u001b[0;32m--> 535\u001b[0m \u001b[38;5;28;01mreturn\u001b[39;00m \u001b[38;5;28;43mself\u001b[39;49m\u001b[38;5;241;43m.\u001b[39;49m\u001b[43m_make_api_call\u001b[49m\u001b[43m(\u001b[49m\u001b[43moperation_name\u001b[49m\u001b[43m,\u001b[49m\u001b[43m \u001b[49m\u001b[43mkwargs\u001b[49m\u001b[43m)\u001b[49m\n",
      "File \u001b[0;32m/usr/local/lib/python3.9/site-packages/botocore/client.py:980\u001b[0m, in \u001b[0;36mBaseClient._make_api_call\u001b[0;34m(self, operation_name, api_params)\u001b[0m\n\u001b[1;32m    978\u001b[0m     error_code \u001b[38;5;241m=\u001b[39m parsed_response\u001b[38;5;241m.\u001b[39mget(\u001b[38;5;124m\"\u001b[39m\u001b[38;5;124mError\u001b[39m\u001b[38;5;124m\"\u001b[39m, {})\u001b[38;5;241m.\u001b[39mget(\u001b[38;5;124m\"\u001b[39m\u001b[38;5;124mCode\u001b[39m\u001b[38;5;124m\"\u001b[39m)\n\u001b[1;32m    979\u001b[0m     error_class \u001b[38;5;241m=\u001b[39m \u001b[38;5;28mself\u001b[39m\u001b[38;5;241m.\u001b[39mexceptions\u001b[38;5;241m.\u001b[39mfrom_code(error_code)\n\u001b[0;32m--> 980\u001b[0m     \u001b[38;5;28;01mraise\u001b[39;00m error_class(parsed_response, operation_name)\n\u001b[1;32m    981\u001b[0m \u001b[38;5;28;01melse\u001b[39;00m:\n\u001b[1;32m    982\u001b[0m     \u001b[38;5;28;01mreturn\u001b[39;00m parsed_response\n",
      "\u001b[0;31mConditionalCheckFailedException\u001b[0m: An error occurred (ConditionalCheckFailedException) when calling the UpdateItem operation: The conditional request failed"
     ]
    }
   ],
   "source": []
  }
 ],
 "metadata": {
  "kernelspec": {
   "display_name": "Python 3",
   "language": "python",
   "name": "python3"
  },
  "language_info": {
   "codemirror_mode": {
    "name": "ipython",
    "version": 3
   },
   "file_extension": ".py",
   "mimetype": "text/x-python",
   "name": "python",
   "nbconvert_exporter": "python",
   "pygments_lexer": "ipython3",
   "version": "3.9.18"
  }
 },
 "nbformat": 4,
 "nbformat_minor": 2
}
